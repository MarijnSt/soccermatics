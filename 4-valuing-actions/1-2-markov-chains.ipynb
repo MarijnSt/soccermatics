{
 "cells": [
  {
   "cell_type": "code",
   "execution_count": 1,
   "metadata": {},
   "outputs": [],
   "source": [
    "import numpy as np"
   ]
  },
  {
   "cell_type": "markdown",
   "metadata": {},
   "source": [
    "# Setup transition matrix\n",
    "\n",
    "A is the pass matrix (transition probabilities from one to another state)\n",
    "\n",
    "g is the goal vector that has the probabilities of scoring a goal in a certain are (Midfield, Box, Wing)"
   ]
  },
  {
   "cell_type": "code",
   "execution_count": 2,
   "metadata": {},
   "outputs": [],
   "source": [
    "#Pass matrix\n",
    "A = np.matrix([[0.25, 0.20, 0.1], [0.1, 0.25, 0.2],[0.1, 0.1, 0.25]])\n",
    "\n",
    "#Goal vector\n",
    "g = np.transpose(np.matrix([0.05, 0.15, 0.05]))"
   ]
  },
  {
   "cell_type": "markdown",
   "metadata": {},
   "source": [
    "x = A * x + g\n",
    "\n",
    "x: vector van x(m), x(b), x(w)\n",
    "\n",
    "A: transition matrix\n",
    "\n",
    "g: goal probability vector\n",
    "\n",
    "# Methods for solving this problem\n",
    "\n",
    "1. Linear algebra\n",
    "2. Iterative method\n",
    "3. Simulation method"
   ]
  },
  {
   "cell_type": "markdown",
   "metadata": {},
   "source": [
    "## Linear algebra"
   ]
  },
  {
   "cell_type": "code",
   "execution_count": 4,
   "metadata": {},
   "outputs": [
    {
     "name": "stdout",
     "output_type": "stream",
     "text": [
      "Expected Threat\n",
      "Midfield, Box, Wing\n",
      "[[0.14991763 0.25205931 0.12026359]]\n"
     ]
    }
   ],
   "source": [
    "xT1 = np.linalg.solve(np.identity(3) - A,g)\n",
    "\n",
    "print('Expected Threat')\n",
    "print('Midfield, Box, Wing')\n",
    "print(np.transpose(xT1))"
   ]
  },
  {
   "cell_type": "markdown",
   "metadata": {},
   "source": [
    "## Iterative method\n",
    "\n",
    "Zo wordt xT berekend voor een volledig veld.\n",
    "\n",
    "We starten op 0 (geen kans om te scoren)\n",
    "\n",
    "Elke stap wordt er vermenigvuldigd met de transition matrix --> stelt een stap (pass) voor\n",
    "\n",
    "Je krijgt dan elke keer de kans dat je na 1, 2, 3, ... passes scoort."
   ]
  },
  {
   "cell_type": "code",
   "execution_count": 6,
   "metadata": {},
   "outputs": [
    {
     "name": "stdout",
     "output_type": "stream",
     "text": [
      "Expected Threat\n",
      "Central, Box, Wing\n",
      "[[0.14966911 0.25182476 0.12007973]]\n"
     ]
    }
   ],
   "source": [
    "# Init array with 3 rows and 1 column (all zeros) --> starting with 0 probability for each state\n",
    "xT2 = np.zeros((3,1))\n",
    "\n",
    "# Iterate 10 times --> each iteration is a pass\n",
    "for t in range(10):\n",
    "   #print(np.matmul(A,xT2) + g)\n",
    "   xT2 = np.matmul(A,xT2) + g # matrix multiplication of A and xT2, then add g\n",
    "\n",
    "print('Expected Threat')\n",
    "print('Central, Box, Wing')\n",
    "print(np.transpose(xT2))"
   ]
  },
  {
   "cell_type": "markdown",
   "metadata": {},
   "source": [
    "## Simulation method"
   ]
  },
  {
   "cell_type": "code",
   "execution_count": 9,
   "metadata": {},
   "outputs": [
    {
     "name": "stdout",
     "output_type": "stream",
     "text": [
      "---------------\n",
      "Start from Central\n",
      "---------------\n",
      " - Central - Out of play\n",
      " - Central - Box - Out of play\n",
      " - Central - Central - Out of play\n",
      " - Central - Central - Central - Wing - Wing - Goal!\n",
      " - Central - Central - Wing - Box - Box - Out of play\n",
      " - Central - Box - Box - Out of play\n",
      " - Central - Box - Central - Central - Central - Wing - Wing - Wing - Out of play\n",
      " - Central - Out of play\n",
      " - Central - Wing - Central - Central - Out of play\n",
      " - Central - Box - Out of play\n",
      "---------------\n",
      "Start from Wing\n",
      "---------------\n",
      " - Wing - Goal!\n",
      " - Wing - Wing - Wing - Wing - Out of play\n",
      " - Wing - Out of play\n",
      " - Wing - Goal!\n",
      " - Wing - Central - Central - Wing - Out of play\n",
      " - Wing - Central - Central - Central - Central - Out of play\n",
      " - Wing - Wing - Box - Out of play\n",
      " - Wing - Central - Out of play\n",
      " - Wing - Out of play\n",
      " - Wing - Central - Box - Wing - Out of play\n",
      "---------------\n",
      "Start from Box\n",
      "---------------\n",
      " - Box - Central - Out of play\n",
      " - Box - Out of play\n",
      " - Box - Out of play\n",
      " - Box - Out of play\n",
      " - Box - Wing - Out of play\n",
      " - Box - Out of play\n",
      " - Box - Wing - Central - Wing - Out of play\n",
      " - Box - Goal!\n",
      " - Box - Out of play\n",
      " - Box - Out of play\n",
      "\n",
      "\n",
      "---------------\n",
      "Expected Threat\n",
      "Central, Box, Wing\n",
      "[0.1 0.2 0.1]\n"
     ]
    }
   ],
   "source": [
    "#num_sims=10\n",
    "num_sims=20000\n",
    "xT3=np.zeros(3)\n",
    "\n",
    "description = {0: 'Central', 1: 'Wing', 2: 'Box' }\n",
    "\n",
    "for i in range(3):\n",
    "    num_goals = 0\n",
    "\n",
    "    print('---------------')\n",
    "    print('Start from ' + description[i] )\n",
    "    print('---------------')\n",
    "\n",
    "    for n in range(num_sims):\n",
    "\n",
    "        ballinplay=True\n",
    "        #Initial state is i\n",
    "        s = i\n",
    "        describe_possession=''\n",
    "\n",
    "        while ballinplay:\n",
    "            r=np.random.rand()\n",
    "\n",
    "            # Make commentary text\n",
    "            describe_possession = describe_possession + ' - ' + description[s]\n",
    "\n",
    "\n",
    "            #Cumulative sum of in play probabilities\n",
    "            c_sum=np.cumsum(A[s,:])\n",
    "            new_s = np.sum(r>c_sum)\n",
    "            if new_s>2:\n",
    "                #Ball is either goal or out of play\n",
    "                ballinplay=False\n",
    "                if r < g[s] + c_sum[0,2]:\n",
    "                    #Its a goal!\n",
    "                    num_goals = num_goals + 1\n",
    "                    describe_possession = describe_possession + ' - Goal!'\n",
    "                else:\n",
    "                    describe_possession = describe_possession + ' - Out of play'\n",
    "            s = new_s\n",
    "\n",
    "        #print(describe_possession)\n",
    "\n",
    "    xT3[i] = num_goals/num_sims\n",
    "\n",
    "\n",
    "print('\\n\\n---------------')\n",
    "print('Expected Threat')\n",
    "print('Central, Box, Wing')\n",
    "print(xT3)"
   ]
  }
 ],
 "metadata": {
  "kernelspec": {
   "display_name": "base",
   "language": "python",
   "name": "python3"
  },
  "language_info": {
   "codemirror_mode": {
    "name": "ipython",
    "version": 3
   },
   "file_extension": ".py",
   "mimetype": "text/x-python",
   "name": "python",
   "nbconvert_exporter": "python",
   "pygments_lexer": "ipython3",
   "version": "3.12.7"
  }
 },
 "nbformat": 4,
 "nbformat_minor": 2
}
