{
 "cells": [
  {
   "cell_type": "code",
   "execution_count": 31,
   "metadata": {},
   "outputs": [],
   "source": [
    "import pandas as pd\n",
    "import numpy as np\n",
    "import json\n",
    "# plotting\n",
    "import os\n",
    "import pathlib\n",
    "import warnings\n",
    "import statsmodels.api as sm\n",
    "import statsmodels.formula.api as smf\n",
    "from mplsoccer import Pitch\n",
    "import matplotlib.pyplot as plt\n",
    "\n",
    "pd.options.mode.chained_assignment = None\n",
    "warnings.filterwarnings('ignore')"
   ]
  },
  {
   "cell_type": "markdown",
   "metadata": {},
   "source": [
    "# Get the data"
   ]
  },
  {
   "cell_type": "code",
   "execution_count": 32,
   "metadata": {},
   "outputs": [
    {
     "name": "stdout",
     "output_type": "stream",
     "text": [
      "<class 'pandas.core.frame.DataFrame'>\n",
      "RangeIndex: 643150 entries, 0 to 643149\n",
      "Data columns (total 12 columns):\n",
      " #   Column        Non-Null Count   Dtype  \n",
      "---  ------        --------------   -----  \n",
      " 0   eventId       643150 non-null  int64  \n",
      " 1   subEventName  643150 non-null  object \n",
      " 2   tags          643150 non-null  object \n",
      " 3   playerId      643150 non-null  int64  \n",
      " 4   positions     643150 non-null  object \n",
      " 5   matchId       643150 non-null  int64  \n",
      " 6   eventName     643150 non-null  object \n",
      " 7   teamId        643150 non-null  int64  \n",
      " 8   matchPeriod   643150 non-null  object \n",
      " 9   eventSec      643150 non-null  float64\n",
      " 10  subEventId    643150 non-null  object \n",
      " 11  id            643150 non-null  int64  \n",
      "dtypes: float64(1), int64(5), object(6)\n",
      "memory usage: 58.9+ MB\n"
     ]
    }
   ],
   "source": [
    "notebook_dir = pathlib.Path().absolute()\n",
    "events_path = os.path.join(notebook_dir.parent, \"wyscout-data\", \"events\", \"events_England.json\")\n",
    "\n",
    "with open(events_path) as f:\n",
    "    events = json.load(f)\n",
    "\n",
    "df = pd.DataFrame(events)\n",
    "df.info()"
   ]
  },
  {
   "cell_type": "markdown",
   "metadata": {},
   "source": [
    "# Preparing the data"
   ]
  },
  {
   "cell_type": "code",
   "execution_count": 33,
   "metadata": {},
   "outputs": [
    {
     "data": {
      "text/plain": [
       "(542524, 14)"
      ]
     },
     "execution_count": 33,
     "metadata": {},
     "output_type": "execute_result"
    }
   ],
   "source": [
    "# Get at next event\n",
    "next_event = df.shift(-1, fill_value=0)\n",
    "\n",
    "# Set nextEvent and kickedOut\n",
    "df[\"nextEvent\"] = next_event[\"subEventName\"]\n",
    "df[\"kickedOut\"] = df.apply(lambda x: 1 if x[\"nextEvent\"] == \"Ball out of the field\" else 0, axis=1)\n",
    "\n",
    "# Drop interruptions\n",
    "interruptions = df[df[\"eventName\"] == \"Interruption\"]\n",
    "df = df.drop(interruptions.index)\n",
    "\n",
    "# Drop non-accurate duels (wyscout saves two: attacking and defending)\n",
    "lost_duels = df[df[\"eventName\"] == \"Duel\"]\n",
    "lost_duels = lost_duels[lost_duels.apply(lambda x: {\"id\": 1802} in x[\"tags\"], axis = 1)]\n",
    "df = df.drop(lost_duels.index)\n",
    "\n",
    "# Drop ball out of field\n",
    "out_of_fields = df[df[\"subEventName\"] == \"Ball out of the field\"]\n",
    "df = df.drop(out_of_fields.index)\n",
    "\n",
    "# Drop save attempts\n",
    "save_attempts = df[df[\"subEventName\"].isin([\"Goalkeeper leaving line\", \"Save attempt\", \"Reflexes\"])]\n",
    "df = df.drop(save_attempts.index)\n",
    "\n",
    "df.shape"
   ]
  },
  {
   "cell_type": "markdown",
   "metadata": {},
   "source": [
    "# Isolating possession chains"
   ]
  },
  {
   "cell_type": "code",
   "execution_count": 37,
   "metadata": {},
   "outputs": [],
   "source": [
    "def isolateChains(df):\n",
    "    \"\"\"\n",
    "    Takes a dataframe with Wyscout event data.\n",
    "\n",
    "    Returns a dataframe with isolated possesion chains\n",
    "\n",
    "    \"\"\"\n",
    "    # Add new column with team id's of the next event\n",
    "    df[\"nextTeamId\"] = df.shift(-1, fill_value=0)[\"teamId\"]\n",
    "\n",
    "    # Init variables\n",
    "    chain = 0\n",
    "    chain_team = df.iloc[0][\"teamId\"]\n",
    "    period = df.iloc[0][\"matchPeriod\"]\n",
    "    stop_criterion = 0\n",
    "    df[\"possession_chain\"] = 0\n",
    "    df[\"possession_chain_team\"] = 0\n",
    "\n",
    "    for i, row in df.iterrows():\n",
    "        # Set the chain number and team\n",
    "        df.at[i, \"possession_chain\"] = chain\n",
    "        df.at[i, \"possession_chain_team\"] = chain_team\n",
    "\n",
    "        # If pass is not accurate or it's a lost duel, add 1 to stop criterion\n",
    "        if row[\"eventName\"] == \"Pass\" or row[\"eventName\"] == \"Duel\":\n",
    "            if row[\"teamId\"] == chain_team and {\"id\": 1802} in row[\"tags\"]:\n",
    "                    stop_criterion += 1\n",
    "            if row[\"teamId\"] != chain_team and {\"id\": 1801} in row[\"tags\"]:\n",
    "                    stop_criterion += 1\n",
    "\n",
    "        # If ball is intercepted properly, add 2 to stop criterion\n",
    "        if row[\"eventName\"] == \"Others on the ball\":\n",
    "            if row[\"teamId\"] == row[\"nextTeamId\"]:\n",
    "                stop_criterion += 2\n",
    "\n",
    "        # If actions is over thanks to a shot, foul or offside: add 2 to stop criterion\n",
    "        if row[\"eventName\"] in [\"Shot\", \"Foul\", \"Offside\"]:\n",
    "            stop_criterion += 2\n",
    "\n",
    "        # If ball is out of field, add 2 to stop criterion\n",
    "        if row[\"kickedOut\"] == 1:\n",
    "            stop_criterion += 2\n",
    "            \n",
    "        # If period ended, reset variables\n",
    "        if row[\"matchPeriod\"] != period:\n",
    "            chain += 1\n",
    "            stop_criterion = 0\n",
    "            chain_team = row['teamId']\n",
    "            period = row[\"matchPeriod\"]\n",
    "            df.at[i, \"possession_chain\"] = chain\n",
    "            df.at[i, \"possession_chain_team\"] = chain_team\n",
    "\n",
    "        # If stop criterion is 2 or more, add 1 to chain number and reset stop criterion\n",
    "        if stop_criterion >= 2:\n",
    "            chain += 1\n",
    "            stop_criterion = 0\n",
    "            chain_team = row['nextTeamId']\n",
    "\n",
    "    return df\n",
    "\n",
    "df = isolateChains(df)"
   ]
  },
  {
   "cell_type": "code",
   "execution_count": 38,
   "metadata": {},
   "outputs": [
    {
     "data": {
      "text/html": [
       "<div>\n",
       "<style scoped>\n",
       "    .dataframe tbody tr th:only-of-type {\n",
       "        vertical-align: middle;\n",
       "    }\n",
       "\n",
       "    .dataframe tbody tr th {\n",
       "        vertical-align: top;\n",
       "    }\n",
       "\n",
       "    .dataframe thead th {\n",
       "        text-align: right;\n",
       "    }\n",
       "</style>\n",
       "<table border=\"1\" class=\"dataframe\">\n",
       "  <thead>\n",
       "    <tr style=\"text-align: right;\">\n",
       "      <th></th>\n",
       "      <th>eventName</th>\n",
       "      <th>possession_chain</th>\n",
       "    </tr>\n",
       "  </thead>\n",
       "  <tbody>\n",
       "    <tr>\n",
       "      <th>36</th>\n",
       "      <td>Free Kick</td>\n",
       "      <td>4</td>\n",
       "    </tr>\n",
       "    <tr>\n",
       "      <th>37</th>\n",
       "      <td>Pass</td>\n",
       "      <td>4</td>\n",
       "    </tr>\n",
       "    <tr>\n",
       "      <th>38</th>\n",
       "      <td>Duel</td>\n",
       "      <td>4</td>\n",
       "    </tr>\n",
       "    <tr>\n",
       "      <th>40</th>\n",
       "      <td>Duel</td>\n",
       "      <td>4</td>\n",
       "    </tr>\n",
       "    <tr>\n",
       "      <th>42</th>\n",
       "      <td>Pass</td>\n",
       "      <td>4</td>\n",
       "    </tr>\n",
       "    <tr>\n",
       "      <th>43</th>\n",
       "      <td>Pass</td>\n",
       "      <td>4</td>\n",
       "    </tr>\n",
       "    <tr>\n",
       "      <th>44</th>\n",
       "      <td>Pass</td>\n",
       "      <td>4</td>\n",
       "    </tr>\n",
       "    <tr>\n",
       "      <th>45</th>\n",
       "      <td>Pass</td>\n",
       "      <td>4</td>\n",
       "    </tr>\n",
       "    <tr>\n",
       "      <th>46</th>\n",
       "      <td>Shot</td>\n",
       "      <td>4</td>\n",
       "    </tr>\n",
       "  </tbody>\n",
       "</table>\n",
       "</div>"
      ],
      "text/plain": [
       "    eventName  possession_chain\n",
       "36  Free Kick                 4\n",
       "37       Pass                 4\n",
       "38       Duel                 4\n",
       "40       Duel                 4\n",
       "42       Pass                 4\n",
       "43       Pass                 4\n",
       "44       Pass                 4\n",
       "45       Pass                 4\n",
       "46       Shot                 4"
      ]
     },
     "execution_count": 38,
     "metadata": {},
     "output_type": "execute_result"
    }
   ],
   "source": [
    "# Check a chain\n",
    "df[df[\"possession_chain\"] == 4][[\"eventName\", \"possession_chain\"]]"
   ]
  }
 ],
 "metadata": {
  "kernelspec": {
   "display_name": "base",
   "language": "python",
   "name": "python3"
  },
  "language_info": {
   "codemirror_mode": {
    "name": "ipython",
    "version": 3
   },
   "file_extension": ".py",
   "mimetype": "text/x-python",
   "name": "python",
   "nbconvert_exporter": "python",
   "pygments_lexer": "ipython3",
   "version": "3.12.7"
  }
 },
 "nbformat": 4,
 "nbformat_minor": 2
}
