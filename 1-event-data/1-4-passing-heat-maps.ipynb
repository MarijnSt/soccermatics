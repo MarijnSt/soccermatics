{
 "cells": [
  {
   "cell_type": "code",
   "execution_count": 1,
   "metadata": {},
   "outputs": [],
   "source": [
    "import matplotlib.pyplot as plt\n",
    "from mplsoccer import Pitch, Sbopen, VerticalPitch\n",
    "import pandas as pd"
   ]
  },
  {
   "cell_type": "code",
   "execution_count": 11,
   "metadata": {},
   "outputs": [
    {
     "name": "stdout",
     "output_type": "stream",
     "text": [
      "Number of games for England Women's: 7\n"
     ]
    }
   ],
   "source": [
    "# opening the dataset\n",
    "parser = Sbopen()\n",
    "matches_df = parser.match(competition_id=72, season_id=30)\n",
    "matches_df.head()\n",
    "\n",
    "team = \"England Women's\"\n",
    "\n",
    "# get a list of match ids for the team\n",
    "match_ids = matches_df.loc[(matches_df['home_team_name'] == team) | (matches_df['away_team_name'] == team)]['match_id'].tolist()\n",
    "no_games = len(match_ids)\n",
    "print(f\"Number of games for {team}: {no_games}\")\n"
   ]
  }
 ],
 "metadata": {
  "kernelspec": {
   "display_name": "base",
   "language": "python",
   "name": "python3"
  },
  "language_info": {
   "codemirror_mode": {
    "name": "ipython",
    "version": 3
   },
   "file_extension": ".py",
   "mimetype": "text/x-python",
   "name": "python",
   "nbconvert_exporter": "python",
   "pygments_lexer": "ipython3",
   "version": "3.12.7"
  }
 },
 "nbformat": 4,
 "nbformat_minor": 2
}
